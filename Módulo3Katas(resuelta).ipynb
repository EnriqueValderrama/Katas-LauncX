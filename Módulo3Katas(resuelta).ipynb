{
  "cells": [
    {
      "cell_type": "markdown",
      "metadata": {},
      "source": [
        "# Ejercicio - Escribir declaraciones `if`, `else`, y `elif`\n",
        "\n",
        "\n",
        "\n",
        "Para este ejercicio, escribirás una lógica condicional que imprima una advertencia si un asteroide se acerca a la Tierra demasiado rápido. La velocidad del asteroide varía dependiendo de lo cerca que esté del sol, y cualquier velocidad superior a 25 kilómetros por segundo (km/s) merece una advertencia.\n",
        "\n",
        "Un asteroide se acerca, y viaja a una velocidad de 49 km/s."
      ]
    },
    {
      "cell_type": "code",
      "execution_count": 16,
      "metadata": {},
      "outputs": [
        {
          "name": "stdout",
          "output_type": "stream",
          "text": [
            "Este asteroide representa una amenaza\n"
          ]
        }
      ],
      "source": [
        "v = input(\"Ingresa la velocidad del asteroide en km/s\")\n",
        "if float(v) >= 25:\n",
        "    print (\"Este asteroide representa una amenaza\")\n",
        "else:\n",
        "    print(\"Este asteroide no representa una amenaza\")"
      ]
    },
    {
      "cell_type": "markdown",
      "metadata": {},
      "source": [
        "Si un asteroide entra en la atmósfera de la Tierra a una velocidad mayor o igual a 20 km/s, a veces produce un rayo de luz que se puede ver desde la Tierra. Escribe la lógica condicional que usa declaraciones `if`, `else`, y `elif` para alertar a las personas de todo el mundo que deben buscar un asteroide en el cielo. ¡Hay uno que se dirige a la tierra ahora a una velocidad de 19 km/s!"
      ]
    },
    {
      "cell_type": "code",
      "execution_count": 15,
      "metadata": {},
      "outputs": [
        {
          "name": "stdout",
          "output_type": "stream",
          "text": [
            "Nada pasara, sigue tu camino\n"
          ]
        }
      ],
      "source": [
        "a = input (\"Velocidad del asteroide al entrar en la atmosfera (en km/s)\")\n",
        "if float(a) > 20:\n",
        "    print(\"¡Volteal al cielo!, podras ver un rayo de luz\")\n",
        "elif float(a) == 20:\n",
        "    print(\"¡Volteal al cielo!, podras ver un rayo de luz\")\n",
        "else:\n",
        "    print(\"No hay nada que ver, sigue con tu vida\")"
      ]
    },
    {
      "cell_type": "markdown",
      "metadata": {},
      "source": [
        "# Ejercicio: Uso de operadores `and` y `or` \n",
        "\n",
        "Recaba información más matizada sobre cuándo los asteroides representan un peligro para la Tierra, y utiliza esa información para mejorar nuestro sistema de advertencia. Aquí está la nueva información que necesitas saber:\n",
        "\n",
        "*Los asteroides de menos de 25 metros en su dimensión más grande probablemente se quemarán a medida que entren en la atmósfera de la Tierra.\n",
        "* Si una pieza de un asteroide que es más grande que 25 metros pero más pequeña que 1000 metros golpeara la Tierra, causaría mucho daño.\n",
        "\n",
        "También discutimos en el ejercicio anterior que:\n",
        "\n",
        "* La velocidad del asteroide varía en función de lo cerca que esté del sol, y cualquier velocidad superior a 25 kilómetros por segundo (km/s) merece una advertencia.\n",
        "* Si un asteroide entra en la atmósfera de la Tierra a una velocidad mayor o igual a 20 km/s, a veces produce un rayo de luz que se puede ver desde la Tierra.\n",
        "\n",
        "Usando toda esta información, escribe un programa que emita la advertencia o información correcta a la gente de la Tierra, según la velocidad y el tamaño de un asteroide. Utiliza instrucciones `if`, `else`, y `elif`, así como los operadores `and` y `or`."
      ]
    },
    {
      "cell_type": "code",
      "execution_count": 14,
      "metadata": {},
      "outputs": [
        {
          "name": "stdout",
          "output_type": "stream",
          "text": [
            "Este programa solo acepta 2 entradas, por favor, apegate a ellas\n"
          ]
        }
      ],
      "source": [
        "di = input (\"Ingresa 1 si el asteroide tiene dirección de ingreso a la atmosfera terrestre o 2 si no estas seguro\")\n",
        "\n",
        "if int(di)==1 or int(di)==2:\n",
        "    da = input(\"Ingresa, en metros, el diámetro del asteroide en su dimension más grande\")\n",
        "    va = input(\"Ingresa la velocidad del asteroide en km/s\")\n",
        "\n",
        "    if int(di) == 1:\n",
        "        if float(da) < 25 and 20 <= float(va) < 25:\n",
        "            print(\"Por su tamaño, este asteroide no representa una amenaza\")\n",
        "            print(\"¡Mira al cielo!, podras ver un rayo de luz\")\n",
        "        elif float(da) < 25 and float(va) >= 25:\n",
        "            print(\"Por su tamaño, este asteroide no representa una amenaza, aunque viaja muy rápido\") #Aunque el asteroide viaja a más de 25 km/s, al ser muy pequeño se desintegrara, por lo que no se emite alerta\n",
        "            print(\"¡Mira al cielo!, podras ver un rayo de luz\")\n",
        "        elif float(da) < 25 and float(va) < 20:\n",
        "            print(\"Por su tamaño, este asteroide no representa una amenaza\")\n",
        "            print(\"No hay nada que ver, sigue con tu vida\")\n",
        "        elif 25<= float(da) <= 1000 and 20 <= float(va) < 25:\n",
        "            print(\"¡ALERTA! Este asteroide es muy grande. Causara mucho daño\") #Se emite una alerta porque, a pesar de que viaja a menos de 25 km/s, es muy grande, va en curso de entrada a la atmosfera y causara daño al impactar\n",
        "            print(\"¡Mira al cielo!, un rayo de luz te avizara de su ingreso a la atmosfera\")\n",
        "        elif 25<= float(da) <= 1000 and float(va) >= 25:\n",
        "            print(\"¡ALERTA! Este asteroide es muy grande y vaja muy rápido. Causara mucho daño\")\n",
        "            print(\"¡Mira al cielo! Un rayo de luz te avisara de su ingreso a la atmosfera\")\n",
        "        elif 25<= float(da) <= 1000 and float(va) < 20:\n",
        "            print(\"¡ALERTA! Este asteroide es muy grande. Causara mucho daño\") #Se emite una alerta, porque a pesar de viajar muy lento, es muy grande, va en curso de entrada a la atmosfera y causara daño al impactar\n",
        "            print(\"¡CUIDADO! Este asteroide ingresara a la atmosfera y no lo veras venir\")\n",
        "    elif int(di)==2:\n",
        "        if float(da) <25 and float(va) < 20:\n",
        "            print(\"Este asteroide no seria peligroso en ningun sentido\")\n",
        "            print(\"Puedes ignorarlo y seguir con tu vida\")\n",
        "        elif float(da) < 25 and 20 <= float(va) < 25:\n",
        "            print(\"Este asteroide no seria peligroso en ningun sentido\")\n",
        "            print(\"Vigila su trayectoria, si ingresa a la atmósfera, veras un rayo de luz en el cielo\")\n",
        "        elif float(da) < 25 and float(va)>=25:\n",
        "            print(\"Este asteroide no seria peligroso en ningun sentido\") #Aunque el asteroide viaja a más de 25 km/s, al ser tan pequeño, si ca,biara su rumbo e ingresara a la atmósfera, se desintegraria, por lo que no es peligros y no se emite alerta\n",
        "            print(\"Vigila su trayectoria, si ingresa a la atmósfera, veras un rayo de luz en el cielo\")\n",
        "        elif 25 <= float(da) <= 1000 and float(va)<20:\n",
        "            print(\"Vigila este asteroide, por su tamaño, podria ser peligroso si toma rumbo de ingreso a la atmósfera\")\n",
        "            print(\"Por su velocidad, si igresa a la atmósfera, no se crearia un rayo de luz\") \n",
        "        elif 25 <= float(da) <= 1000 and 20 <= float(va) < 25:\n",
        "            print(\"Vigila este asteroide, por su tamaño , podria ser peligroso si toma rumbo de ingreso a la atmósfera\")\n",
        "            print(\"Por su velocidad, si igresa a la atmósfera, te avisara con un rayo de luz\") \n",
        "        elif 25 <= float(da) <= 1000 and float(va) >= 25:\n",
        "            print(\"igila este asteroide, por su tamaño y velocidad, podria ser peligroso si toma rumbo de ingreso a la atmósfera\")\n",
        "            print(\"Por su velocidad, si igresa a la atmósfera, te avisara con un rayo de luz\") \n",
        "else:\n",
        "     print(\"Este programa solo acepta 2 entradas, por favor, apegate a ellas\")"
      ]
    }
  ],
  "metadata": {
    "interpreter": {
      "hash": "916dbcbb3f70747c44a77c7bcd40155683ae19c65e1c03b4aa3499c5328201f1"
    },
    "kernel_info": {
      "name": "conda-env-py37_default-py"
    },
    "kernelspec": {
      "display_name": "py37_default",
      "language": "python",
      "name": "python3"
    },
    "language_info": {
      "codemirror_mode": {
        "name": "ipython",
        "version": 3
      },
      "file_extension": ".py",
      "mimetype": "text/x-python",
      "name": "python",
      "nbconvert_exporter": "python",
      "pygments_lexer": "ipython3",
      "version": "3.8.10"
    },
    "nteract": {
      "version": "nteract-front-end@1.0.0"
    },
    "orig_nbformat": 4
  },
  "nbformat": 4,
  "nbformat_minor": 2
}
