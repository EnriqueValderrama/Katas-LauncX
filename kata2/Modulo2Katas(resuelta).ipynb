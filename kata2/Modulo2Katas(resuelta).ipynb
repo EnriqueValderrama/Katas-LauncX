{
 "cells": [
  {
   "cell_type": "markdown",
   "metadata": {},
   "source": [
    "# Crea un entorno virtual mediante venv\n",
    "\n",
    "Ejecutar en su terminal: python -m venv env\n",
    "\n",
    "![](./paso1.PNG)\n",
    "\n",
    "python -m venv env Ahora tienes un directorio (folder) env creado en tu terminal.\n",
    "\n",
    "![](./paso1-1.PNG)\n",
    "\n",
    "\n",
    "Ejecuta el comando para activar el entorno virtual: env\\Scripts\\activate\n",
    "\n",
    "![](./paso2.PNG)\n",
    "\n",
    "\n",
    "Ahora que estás dentro de tu entorno virtual, puedes instalar una biblioteca y saber que la biblioteca solo existirá en el entorno virtual.\n",
    "\n",
    "Ejecuta el comando pip freeze para ver las bibliotecas instaladas en tu entorno:\n",
    "\n",
    "![](./paso3.PNG)\n",
    "\n",
    "No deberías obtener respuesta. A continuación, veamos cómo cambia la salida de pip freeze cuando se agrega una biblioteca (un paquete).\n",
    "\n",
    "Ejecuta el comando pip install para instalar una biblioteca (como paso intermedio tuve que actualizar la biblioteca pip): pip install python-dateutil\n",
    "Un gran mensaje de salida de texto dice que está instalando tu biblioteca, y debe terminar con la siguiente oración:\n",
    "\n",
    "Successfully installed python-dateutil-2.8.2 six-1.16.0\n",
    "\n",
    "![](./paso4.PNG)\n",
    "\n",
    "Vuelve a ejecutar pip freeze para ver cómo ha cambiado tu lista de bibliotecas.\n",
    "Ahora deberías ver la siguiente lista:\n",
    "\n",
    "python-dateutil==2.8.2\n",
    "six==1.16.0\n",
    "\n",
    "![](./paso5.PNG)\n",
    "\n",
    "\n",
    "Desactivar un entorno virtual\n",
    "Hasta ahora, has creado un entorno virtual y le has agregado un paquete. Sin embargo, es posible que estés trabajando en varios proyectos de Python y necesites cambiar entre ellos. Para hacer eso, debes salir (desactivar) tu entorno virtual.\n",
    "\n",
    "Ejecuta el comando deactivate:\n",
    "\n",
    "![](./paso6.PNG)\n"
   ]
  }
 ],
 "metadata": {
  "interpreter": {
   "hash": "5f6227dd9e9e868107fb3c1114210844412e6c15a282b810619744ffd1febba0"
  },
  "kernelspec": {
   "display_name": "Python 3.8.10 32-bit",
   "language": "python",
   "name": "python3"
  },
  "language_info": {
   "name": "python",
   "version": "3.8.10"
  },
  "orig_nbformat": 4
 },
 "nbformat": 4,
 "nbformat_minor": 2
}
