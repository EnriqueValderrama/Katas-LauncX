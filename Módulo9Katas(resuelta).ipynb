{
  "cells": [
    {
      "cell_type": "markdown",
      "metadata": {},
      "source": [
        "# Ejercicio: Uso de funciones en Python"
      ]
    },
    {
      "cell_type": "markdown",
      "metadata": {},
      "source": [
        "### Ejercicio 1: Trabajar con argumentos en funciones\n",
        "\n",
        "Los argumentos requeridos en las funciones se utilizan cuando las funciones necesitan que esos argumentos funcionen correctamente. En este ejercicio, construirás un informe de combustible que requiere información de varias ubicaciones de combustible en todo el cohete.\n",
        "\n"
      ]
    },
    {
      "cell_type": "markdown",
      "metadata": {},
      "source": [
        "> **TIP**\n",
        "> Dedica unos minutos para tratar de encontrar una solución. Luego desplázate hacia abajo hasta la parte inferior para ver si has logrado compilar el programa de acuerdo con las especificaciones\n",
        "\n",
        "Comienza por crear una función que necesite tres lecturas de combustible y devuelva un informe:"
      ]
    },
    {
      "cell_type": "code",
      "execution_count": null,
      "metadata": {},
      "outputs": [],
      "source": [
        "def informe_combus (tanque1,tanque2,tanque3):\n",
        "    promedio = (tanque1 + tanque2 + tanque3)/3\n",
        "    return f\"\"\"\n",
        "    tanque 1: {tanque1}% de combustible\n",
        "    tanque 2: {tanque2}% de combustible\n",
        "    tanque 3: {tanque3}% de combustible\n",
        "    Tenemos un promedio de {promedio}% de combustible\n",
        "    \"\"\"\n"
      ]
    },
    {
      "cell_type": "markdown",
      "metadata": {},
      "source": [
        "Ahora que hemos definido la función de informes, vamos a comprobarlo. Para esta misión, los tanques no están llenos:"
      ]
    },
    {
      "cell_type": "code",
      "execution_count": null,
      "metadata": {},
      "outputs": [],
      "source": [
        "print(informe_combus(20,50,30))"
      ]
    },
    {
      "cell_type": "markdown",
      "metadata": {},
      "source": [
        "En lugar de simplemente crear el informe, la función también está calculando el promedio. Mejora la legibilidad extrayendo el cálculo promedio de la función en una nueva función para que el promedio se pueda hacer de forma independiente:"
      ]
    },
    {
      "cell_type": "code",
      "execution_count": null,
      "metadata": {},
      "outputs": [],
      "source": [
        "def promedio_mejor(porcentages):\n",
        "    return sum(porcentages)/len(porcentages)\n",
        "    \n",
        "print(promedio_mejor([50,20,10,8]))"
      ]
    },
    {
      "cell_type": "markdown",
      "metadata": {},
      "source": [
        "Ahora actualiza la función de informes para llamando a la nueva función del promedio:\n"
      ]
    },
    {
      "cell_type": "code",
      "execution_count": null,
      "metadata": {},
      "outputs": [],
      "source": [
        "def informe_combus (tanque1,tanque2,tanque3):\n",
        "    promedio = (tanque1 + tanque2 + tanque3)/3\n",
        "    return f\"\"\"\n",
        "    tanque 1: {tanque1}% de combustible\n",
        "    tanque 2: {tanque2}% de combustible\n",
        "    tanque 3: {tanque3}% de combustible\n",
        "    Tenemos un promedio de {promedio_mejor([tanque1,tanque2,tanque3])}% de combustible\n",
        "    \"\"\"\n",
        "\n",
        "print(informe_combus(20,50,30))"
      ]
    },
    {
      "cell_type": "markdown",
      "metadata": {},
      "source": [
        "> Recuerda: Lo importante es intentarlo, puedes auxiliarte de internet, libros, etc. El objetivo de una kata es la comprobación de la comprensión de la lección y su aplicación inmediata a la resolución de problemas. Go for it!"
      ]
    },
    {
      "cell_type": "markdown",
      "metadata": {},
      "source": [
        "## Ejercicio 2: Trabajo con argumentos de palabra clave"
      ]
    },
    {
      "cell_type": "markdown",
      "metadata": {},
      "source": [
        "### Ejercicio : Trabajar con argumentos de palabras clave en funciones\n",
        "En este ejercicio, construirás un informe de cohete que requiere varias piezas de información, como el tiempo hasta el destino, el combustible a la izquierda y el nombre del destino. Comienza por crear una función que creará un informe preciso de la misión:"
      ]
    },
    {
      "cell_type": "code",
      "execution_count": null,
      "metadata": {},
      "outputs": [],
      "source": [
        "# Función con un informe preciso de la misión. Considera hora de prelanzamiento, tiempo de vuelo, destino, tanque externo y tanque interno\n",
        "\n",
        "def informe_mision(destino,hora_lanzamiento,tiempo_vuelo,tanque_externo,tanque_interno):\n",
        "    return f\"\"\"\n",
        "    Nuestra mision con destino a {destino}\n",
        "    Tiene como hora de despegue las {hora_lanzamiento} hrs\n",
        "    Con un tiempo de vuelo de {tiempo_vuelo} hrs\n",
        "    Arrancando con un {tanque_externo}% de combustible en el tanque externo \n",
        "    Y un {tanque_interno}% de combustible en el tanque interno\n",
        "    \"\"\"\n",
        "\n",
        "\n",
        "print(informe_mision('Marte','16:00','2 días y 20 horas', '80', '90'))"
      ]
    },
    {
      "cell_type": "markdown",
      "metadata": {},
      "source": [
        "La función es problemática porque no se puede adaptar para minutos adicionales o tanques adicionales de combustible. Hazlo más flexible permitiendo cualquier número de pasos basados en el tiempo y cualquier número de tanques. En lugar de usar `*args` y `**kwargs`, aprovecha el hecho de que puedes usar cualquier nombre que desees. Asegurate que la función sea más legible mediante el uso de nombres de variables que están asociados con las entradas, como `*minutes` y `**fuel_reservoirs`:"
      ]
    },
    {
      "cell_type": "code",
      "execution_count": null,
      "metadata": {},
      "outputs": [],
      "source": [
        "# Escribe tu nueva función de reporte considerando lo anterior\n",
        "def informe_flexible(destino,*procesos_tiempo,**combust_tanques):\n",
        "    return f\"\"\"\n",
        "    Nuestra mision con destino a {destino}\n",
        "    Tendra una duración de {sum(procesos_tiempo)} hrs\n",
        "    Arrancando con un {sum(combust_tanques.values())/len(combust_tanques)}% de combustible total posible\n",
        "    \"\"\"\n",
        "\n",
        "print(informe_flexible('Marte',5,0.2,3,0.1, interno=80,externo=100,respaldo=50))"
      ]
    },
    {
      "cell_type": "markdown",
      "metadata": {},
      "source": [
        "Debido a que el combustible que queda en los tanques es específico de cada tanque, actualiza la función para usar el nombre de cada tanque en el informe:"
      ]
    },
    {
      "cell_type": "code",
      "execution_count": null,
      "metadata": {},
      "outputs": [],
      "source": [
        "# Escribe tu nueva función\n",
        "def informe_flexible(destino,*procesos_tiempo,**combust_tanques):\n",
        "    reporte_detallado = f\"\"\"\n",
        "    Nuestra mision con destino a {destino}\n",
        "    Tendra una duración de {sum(procesos_tiempo)} hrs\n",
        "    Arrancando con un {sum(combust_tanques.values())/len(combust_tanques)}% de combustible total posible\n",
        "    \"\"\"\n",
        "    for numero_tanque , porciento in combust_tanques.items():\n",
        "        print(f'{numero_tanque} con {porciento}% de combustible')\n",
        "    return reporte_detallado\n",
        "\n",
        "print(informe_flexible('Marte',5,0.2,3,0.1, interno=80,externo=100,respaldo=50))\n",
        "\n",
        "#Aqui pase mucho tiempo intentando hacer que el reporte quedara en el orden adecuado pero no lo logre, y como el tiempo me come, lo deje así, pero seguro que con un poco de tiempo y un repaso podria hacerlo bien "
      ]
    }
  ],
  "metadata": {
    "interpreter": {
      "hash": "205095b8b86ea82a021a8fc2ffba2b3bc9f8d0be25999901963b225939f75778"
    },
    "kernelspec": {
      "display_name": "Python 3.8.10 64-bit ('tmp': conda)",
      "name": "python3"
    },
    "language_info": {
      "codemirror_mode": {
        "name": "ipython",
        "version": 3
      },
      "file_extension": ".py",
      "mimetype": "text/x-python",
      "name": "python",
      "nbconvert_exporter": "python",
      "pygments_lexer": "ipython3",
      "version": "3.8.10"
    },
    "nteract": {
      "version": "nteract-front-end@1.0.0"
    },
    "orig_nbformat": 4
  },
  "nbformat": 4,
  "nbformat_minor": 2
}
